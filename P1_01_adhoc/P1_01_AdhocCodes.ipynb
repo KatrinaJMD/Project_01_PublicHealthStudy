{
 "cells": [
  {
   "cell_type": "code",
   "execution_count": 1,
   "id": "20bb5cde-ff0a-40d1-a0ea-d1894562a981",
   "metadata": {},
   "outputs": [],
   "source": [
    "import numpy as np\n",
    "import pandas as pd\n",
    "import math"
   ]
  },
  {
   "cell_type": "code",
   "execution_count": 2,
   "id": "42661210-836b-4df7-985c-cbef678f6032",
   "metadata": {},
   "outputs": [],
   "source": [
    "population = pd.read_csv(\"/Users/katrinakonz/Desktop/OPENCLASSROOMS/P3/P3_Katrina_JUMADIAO/P3_01_qa/FAO_2013_fr/fr_population.csv\")\n",
    "vegetal = pd.read_csv(\"/Users/katrinakonz/Desktop/OPENCLASSROOMS/P3/P3_Katrina_JUMADIAO/P3_01_qa/FAO_2013_fr/fr_vegetaux.csv\") \n",
    "animaux = pd.read_csv(\"/Users/katrinakonz/Desktop/OPENCLASSROOMS/P3/P3_Katrina_JUMADIAO/P3_01_qa/FAO_2013_fr/fr_animaux.csv\")\n",
    "cereals = pd.read_csv(\"/Users/katrinakonz/Desktop/OPENCLASSROOMS/P3/P3_Katrina_JUMADIAO/P3_01_qa/FAO_2013_fr/fr_céréales.csv\")\n",
    "under = pd.read_csv(\"/Users/katrinakonz/Desktop/OPENCLASSROOMS/P3/P3_Katrina_JUMADIAO/P3_01_qa/FAO_2013_fr/fr_sousalimentation.csv\")"
   ]
  },
  {
   "cell_type": "markdown",
   "id": "31ca8dc2-2bc8-4e05-ae1c-cb53bd35f44a",
   "metadata": {},
   "source": [
    "![purple-divider](https://user-images.githubusercontent.com/7065401/52071927-c1cd7100-2562-11e9-908a-dde91ba14e59.png)\n",
    "# QUESTION 1: donnez le résultat de votre calcul pour l'année 2013."
   ]
  },
  {
   "cell_type": "markdown",
   "id": "2e6a34e2-ff9d-4df1-a32e-1834f6838205",
   "metadata": {},
   "source": [
    "### POPULATION base"
   ]
  },
  {
   "cell_type": "code",
   "execution_count": 3,
   "id": "77ac14e1-4832-41f2-9962-76dc0ac8d8a1",
   "metadata": {},
   "outputs": [
    {
     "name": "stdout",
     "output_type": "stream",
     "text": [
      "8,413,993,000\n"
     ]
    }
   ],
   "source": [
    "population.rename(columns={\"Valeur\": \"population\"}, inplace=True)\n",
    "population[\"population\"] *= 1000\n",
    "\n",
    "total_population = population[\"population\"].sum()\n",
    "print(f\"{total_population:,}\")"
   ]
  },
  {
   "cell_type": "markdown",
   "id": "27f5188d-8514-4aed-9c3e-db5a289fefc0",
   "metadata": {},
   "source": [
    "### POPULATION sans excès (Chine)"
   ]
  },
  {
   "cell_type": "code",
   "execution_count": 4,
   "id": "bdd3314c-32b4-483c-83d0-0f7ef227d9c4",
   "metadata": {},
   "outputs": [],
   "source": [
    "population.loc[population[\"Zone\"].str.contains(\"Chine\", case=False)]\n",
    "population.drop(index=33, inplace=True)"
   ]
  },
  {
   "cell_type": "code",
   "execution_count": 5,
   "id": "537a97c1-749a-494e-86f1-b24ce9518e5b",
   "metadata": {},
   "outputs": [
    {
     "name": "stdout",
     "output_type": "stream",
     "text": [
      "6,997,326,000\n"
     ]
    }
   ],
   "source": [
    "population_mondiale = population[\"population\"].sum()\n",
    "print(f\"{population_mondiale:,}\")"
   ]
  },
  {
   "cell_type": "markdown",
   "id": "d9787460-4cfc-48fc-b302-16deb9506483",
   "metadata": {},
   "source": [
    "![purple-divider](https://user-images.githubusercontent.com/7065401/52071927-c1cd7100-2562-11e9-908a-dde91ba14e59.png)\n",
    "# Question 2 : identifiez ces redondances, en donnant votre réponse sous forme de formule mathématique."
   ]
  },
  {
   "cell_type": "markdown",
   "id": "92120914-6e91-4d4e-80a7-db8763763522",
   "metadata": {},
   "source": [
    "### Disponibilité alimentaire\n",
    "- import + variation + production - export\n",
    "- aliment animaux + pertes + semences + traitement + nourriture + autres utilisation"
   ]
  },
  {
   "cell_type": "markdown",
   "id": "dce55ede-3541-4dbc-82ca-e1b31207d07d",
   "metadata": {},
   "source": [
    "### France 2013 : Disponibilité intérieure en Blé"
   ]
  },
  {
   "cell_type": "code",
   "execution_count": 6,
   "id": "0a5ab87a-190e-449e-b8b1-9d7d930192ba",
   "metadata": {},
   "outputs": [
    {
     "name": "stdout",
     "output_type": "stream",
     "text": [
      "20,298,000\n"
     ]
    }
   ],
   "source": [
    "vegetal.loc[(vegetal[\"Élément\"] == \"Disponibilité intérieure\") & (vegetal[\"Produit\"] == \"Blé\") & (vegetal[\"Zone\"] == \"France\")]\n",
    "\n",
    "france_ble = round(vegetal.iloc[37491, 11] * 1000)\n",
    "print(f\"{france_ble:,}\")"
   ]
  },
  {
   "cell_type": "markdown",
   "id": "cab20b20-4b2f-422b-b36f-31a8e78018c7",
   "metadata": {},
   "source": [
    "### 1e equation\n",
    "Disponibilité intérieure (20298) = importation (2055) + variation (1131) + production (38614) - export (21502)"
   ]
  },
  {
   "cell_type": "code",
   "execution_count": 7,
   "id": "3db7f774-3c76-48ae-be66-ab8b9f5a1807",
   "metadata": {},
   "outputs": [
    {
     "name": "stdout",
     "output_type": "stream",
     "text": [
      "1. Disponibilité intérieure en France (produit Blé) = 20,298,000\n"
     ]
    }
   ],
   "source": [
    "france_ble_1 = round((vegetal.iloc[37487, 11] + vegetal.iloc[37488, 11] + vegetal.iloc[37489, 11] - vegetal.iloc[37490, 11]) * 1000)\n",
    "print(f\"1. Disponibilité intérieure en France (produit Blé) = {france_ble_1:,}\")"
   ]
  },
  {
   "cell_type": "markdown",
   "id": "bc0c9efa-821a-4996-ad87-02ababa386e6",
   "metadata": {},
   "source": [
    "### 2e equation\n",
    "Disponibilité intérieure (20298) = aliment animaux (7822) + pertes (358) + semences (748) + traitement (1575) + nourriture (6971) + autres utilisation (2824)"
   ]
  },
  {
   "cell_type": "code",
   "execution_count": 8,
   "id": "451eb2ce-80c3-4bed-aadd-c43082cc18ef",
   "metadata": {},
   "outputs": [
    {
     "name": "stdout",
     "output_type": "stream",
     "text": [
      "2. Disponibilité intérieure en France (produit Blé) = 20,298,000\n"
     ]
    }
   ],
   "source": [
    "france_ble_2 = round((vegetal.iloc[37492,11] + vegetal.iloc[37494,11] + vegetal.iloc[37493,11] + vegetal.iloc[37495,11] + vegetal.iloc[37497,11] + vegetal.iloc[37496,11]) * 1000)\n",
    "print(f\"2. Disponibilité intérieure en France (produit Blé) = {france_ble_2:,}\")"
   ]
  },
  {
   "cell_type": "markdown",
   "id": "197fa942-32ec-4134-8d16-f82fd5249b41",
   "metadata": {},
   "source": [
    "![purple-divider](https://user-images.githubusercontent.com/7065401/52071927-c1cd7100-2562-11e9-908a-dde91ba14e59.png)\n",
    "# Question 3 : calculez (pour chaque pays et chaque produit) la disponibilité alimentaire en kcal puis en kg de protéines."
   ]
  },
  {
   "cell_type": "code",
   "execution_count": 9,
   "id": "9d71fc80-5cac-45c5-9d64-8c6626559785",
   "metadata": {},
   "outputs": [],
   "source": [
    "# Concatenation: animaux + vegetaux\n",
    "\n",
    "animaux[\"origine\"] = \"animal\"\n",
    "vegetal[\"origine\"] = \"vegetal\"\n",
    "\n",
    "foods = pd.concat([animaux, vegetal])"
   ]
  },
  {
   "cell_type": "code",
   "execution_count": 10,
   "id": "e14c6706-d461-461b-9a40-d421035658d5",
   "metadata": {},
   "outputs": [],
   "source": [
    "# Pivot: animaux + vegetaux\n",
    "\n",
    "foods = pd.pivot_table(foods, index=[\"Code zone\",\"Zone\",\"Code Produit\",\"Produit\",\"Année\",\"origine\"], values=\"Valeur\", columns=\"Élément\")\n",
    "foods = foods.rename_axis(None, axis=1)\n",
    "foods.reset_index(inplace=True)\n",
    "\n",
    "\n",
    "# sans excès (Chine)\n",
    "foods.drop(foods[foods[\"Zone\"] == \"Chine\"].index, inplace=True)"
   ]
  },
  {
   "cell_type": "code",
   "execution_count": 11,
   "id": "717c3e2c-7dce-4126-b60a-394dd095fa6f",
   "metadata": {},
   "outputs": [],
   "source": [
    "# Conversion des unités (milliers de tonnes)\n",
    "\n",
    "tons_k = [\"Aliments pour animaux\",\"Autres utilisations (non alimentaire)\",\"Disponibilité intérieure\",\n",
    "            \"Exportations - Quantité\",\"Importations - Quantité\",\"Nourriture\",\"Pertes\",\"Production\",\n",
    "            \"Semences\",\"Traitement\",\"Variation de stock\"]\n",
    "\n",
    "for list in tons_k :\n",
    "    foods[list] *= 1000000"
   ]
  },
  {
   "cell_type": "code",
   "execution_count": 12,
   "id": "4b9d7115-ac50-43f2-a980-fc7729e11fa4",
   "metadata": {},
   "outputs": [],
   "source": [
    "# Merge avec Population\n",
    "\n",
    "pop_col = [\"Zone\", \"population\"]\n",
    "pop_merge = pd.DataFrame(population[pop_col])\n",
    "\n",
    "food_population = pd.merge(foods, pop_merge, on=\"Zone\", how=\"left\").copy()\n",
    "\n",
    "# Renommer les colonnes\n",
    "food_population.rename(columns={\"Code zone\":\"country_code\",\n",
    "                                \"Zone\":\"country\",\n",
    "                                \"Code Produit\":\"product_code\",\n",
    "                                \"Produit\":\"product\",\n",
    "                                \"Année\":\"year\",\n",
    "                                \"Aliments pour animaux\":\"animal_food\",\n",
    "                                \"Autres utilisations (non alimentaire)\":\"other_uses\",\n",
    "                                \"Disponibilité alimentaire (Kcal/personne/jour)\":\"alim_kcal/p/j\",\n",
    "                                \"Disponibilité alimentaire en quantité (kg/personne/an)\":\"alim_kg/p/an\",\n",
    "                                \"Disponibilité de matière grasse en quantité (g/personne/jour)\":\"matgrasse_g/p/j\",\n",
    "                                \"Disponibilité de protéines en quantité (g/personne/jour)\":\"prot_g/p/j\",\n",
    "                                \"Disponibilité intérieure\":\"dispo_int\",\n",
    "                                \"Exportations - Quantité\":\"exports\",\n",
    "                                \"Importations - Quantité\":\"imports\",\n",
    "                                \"Nourriture\":\"nourriture\",\n",
    "                                \"Pertes\":\"pertes\",\n",
    "                                \"Production\":\"production\",\n",
    "                                \"Semences\":\"semences\",\n",
    "                                \"Traitement\":\"traitement\",\n",
    "                                \"Variation de stock\":\"stock_var\",\n",
    "                                }, inplace=True)"
   ]
  },
  {
   "cell_type": "code",
   "execution_count": 13,
   "id": "1071664f-3b58-449a-9ce0-2cd7b52e83ff",
   "metadata": {},
   "outputs": [],
   "source": [
    "# Conversions\n",
    "days = 365\n",
    "g_to_kg = 1000"
   ]
  },
  {
   "cell_type": "markdown",
   "id": "7c697595-acfb-47e2-bbc6-f14e2ece689c",
   "metadata": {},
   "source": [
    "### Disponibilité alimentaire (pour chaque pays et chaque produit) en kcal"
   ]
  },
  {
   "cell_type": "code",
   "execution_count": 14,
   "id": "6ee8ad99-4e6e-4193-b0e4-d77cc5ce099c",
   "metadata": {},
   "outputs": [
    {
     "data": {
      "text/html": [
       "<div>\n",
       "<style scoped>\n",
       "    .dataframe tbody tr th:only-of-type {\n",
       "        vertical-align: middle;\n",
       "    }\n",
       "\n",
       "    .dataframe tbody tr th {\n",
       "        vertical-align: top;\n",
       "    }\n",
       "\n",
       "    .dataframe thead th {\n",
       "        text-align: right;\n",
       "    }\n",
       "</style>\n",
       "<table border=\"1\" class=\"dataframe\">\n",
       "  <thead>\n",
       "    <tr style=\"text-align: right;\">\n",
       "      <th></th>\n",
       "      <th>country</th>\n",
       "      <th>alim_kcal/p/an</th>\n",
       "    </tr>\n",
       "  </thead>\n",
       "  <tbody>\n",
       "    <tr>\n",
       "      <th>0</th>\n",
       "      <td>Arménie</td>\n",
       "      <td>1.112684e+12</td>\n",
       "    </tr>\n",
       "    <tr>\n",
       "      <th>1</th>\n",
       "      <td>Arménie</td>\n",
       "      <td>0.000000e+00</td>\n",
       "    </tr>\n",
       "  </tbody>\n",
       "</table>\n",
       "</div>"
      ],
      "text/plain": [
       "   country  alim_kcal/p/an\n",
       "0  Arménie    1.112684e+12\n",
       "1  Arménie    0.000000e+00"
      ]
     },
     "execution_count": 14,
     "metadata": {},
     "output_type": "execute_result"
    }
   ],
   "source": [
    "food_population[\"alim_kcal/p/an\"] = food_population[\"alim_kcal/p/j\"] * food_population[\"population\"] * days\n",
    "food_population[[\"country\", \"alim_kcal/p/an\"]].head(2)"
   ]
  },
  {
   "cell_type": "markdown",
   "id": "898093af-0a4a-4a2c-9db0-86d4114c1467",
   "metadata": {},
   "source": [
    "### Disponibilité alimentaire (pour chaque pays et chaque produit) en kg de protéines"
   ]
  },
  {
   "cell_type": "code",
   "execution_count": 15,
   "id": "2bdf58ed-d0e2-429f-9964-8bb8e3d496fc",
   "metadata": {},
   "outputs": [
    {
     "data": {
      "text/html": [
       "<div>\n",
       "<style scoped>\n",
       "    .dataframe tbody tr th:only-of-type {\n",
       "        vertical-align: middle;\n",
       "    }\n",
       "\n",
       "    .dataframe tbody tr th {\n",
       "        vertical-align: top;\n",
       "    }\n",
       "\n",
       "    .dataframe thead th {\n",
       "        text-align: right;\n",
       "    }\n",
       "</style>\n",
       "<table border=\"1\" class=\"dataframe\">\n",
       "  <thead>\n",
       "    <tr style=\"text-align: right;\">\n",
       "      <th></th>\n",
       "      <th>country</th>\n",
       "      <th>prot_kg/p/an</th>\n",
       "    </tr>\n",
       "  </thead>\n",
       "  <tbody>\n",
       "    <tr>\n",
       "      <th>0</th>\n",
       "      <td>Arménie</td>\n",
       "      <td>33163184.6</td>\n",
       "    </tr>\n",
       "    <tr>\n",
       "      <th>1</th>\n",
       "      <td>Arménie</td>\n",
       "      <td>0.0</td>\n",
       "    </tr>\n",
       "  </tbody>\n",
       "</table>\n",
       "</div>"
      ],
      "text/plain": [
       "   country  prot_kg/p/an\n",
       "0  Arménie    33163184.6\n",
       "1  Arménie           0.0"
      ]
     },
     "execution_count": 15,
     "metadata": {},
     "output_type": "execute_result"
    }
   ],
   "source": [
    "food_population[\"prot_kg/p/an\"] = (food_population[\"prot_g/p/j\"] / g_to_kg) * food_population[\"population\"] * days\n",
    "food_population[[\"country\", \"prot_kg/p/an\"]].head(2)"
   ]
  },
  {
   "cell_type": "markdown",
   "id": "40ca582d-974f-4835-a0f5-c71da25e9fbd",
   "metadata": {},
   "source": [
    "![purple-divider](https://user-images.githubusercontent.com/7065401/52071927-c1cd7100-2562-11e9-908a-dde91ba14e59.png)\n",
    "# Question 4 : calculez pour chaque produit le ratio \"énergie/poids\", que vous donnerez en kcal/kg."
   ]
  },
  {
   "cell_type": "markdown",
   "id": "25849a94-c572-435a-a05b-5fbabdae2a32",
   "metadata": {},
   "source": [
    "### Ratio energie/pods en kcal/kg"
   ]
  },
  {
   "cell_type": "code",
   "execution_count": 16,
   "id": "8de70119-aae0-4b1a-b3b8-cd7b6cffeeee",
   "metadata": {},
   "outputs": [],
   "source": [
    "# Remplacer les 0 par les valeurs NaN\n",
    "\n",
    "food_population.replace(0, np.nan, inplace=True)"
   ]
  },
  {
   "cell_type": "code",
   "execution_count": 17,
   "id": "a5fc092b-200a-4c46-8b3a-c32ae76c2790",
   "metadata": {},
   "outputs": [],
   "source": [
    "food_population[\"ratio_energie\"] = food_population[\"alim_kcal/p/an\"] / food_population[\"nourriture\"]"
   ]
  },
  {
   "cell_type": "code",
   "execution_count": 18,
   "id": "011be336-01e9-456f-b078-90bf1f29bd55",
   "metadata": {},
   "outputs": [
    {
     "name": "stdout",
     "output_type": "stream",
     "text": [
      "Valeur énergétique d'un oeuf est 1,345 kcal/kg\n"
     ]
    }
   ],
   "source": [
    "# Verification avec l'Oeuf: selon Wikipedia, la valeur énergétique d'un oeuf est de 1470 kcal/kg.\n",
    "\n",
    "# 1e methode\n",
    "egg = food_population.loc[food_population[\"product\"] == \"Oeufs\"].groupby(\"product\").mean()\n",
    "egg[\"ratio_energie\"]\n",
    "\n",
    "# 2e methode\n",
    "eggs = food_population.loc[food_population[\"product\"] == \"Oeufs\"]\n",
    "eggs = eggs[\"ratio_energie\"].mean()\n",
    "eggs = round(eggs)\n",
    "print(f\"Valeur énergétique d'un oeuf est {eggs:,} kcal/kg\")"
   ]
  },
  {
   "cell_type": "markdown",
   "id": "4c4df719-f117-43ca-ba31-73f184389429",
   "metadata": {},
   "source": [
    "![green-divider](https://user-images.githubusercontent.com/7065401/52071924-c003ad80-2562-11e9-8297-1c6595f8a7ff.png)\n",
    "## Transitional question\n",
    "En suivant la même méthodologie, calculez également le pourcentage de protéines de chaque produit (pour chaque pays)."
   ]
  },
  {
   "cell_type": "code",
   "execution_count": 19,
   "id": "70ee2ecc-5311-4714-9038-bb6992104527",
   "metadata": {},
   "outputs": [],
   "source": [
    "food_population[\"ratio_prot\"] = food_population[\"prot_kg/p/an\"] / food_population[\"nourriture\"]"
   ]
  },
  {
   "cell_type": "code",
   "execution_count": 20,
   "id": "3483bb21-13c8-491c-85b1-537b4e3737e9",
   "metadata": {},
   "outputs": [
    {
     "name": "stdout",
     "output_type": "stream",
     "text": [
      "Ratio protéine de l'avoine est 8.4%\n"
     ]
    }
   ],
   "source": [
    "# Verification avec l'Avoine: selon Wikipedia, le ratio protéine de l'avoine est d'environ 10,7%.\n",
    "\n",
    "# 1e methode\n",
    "oat = food_population.loc[food_population[\"product\"] == \"Avoine\"].groupby(\"product\").mean().iloc[:]\n",
    "oat[\"ratio_prot\"]\n",
    "\n",
    "# 2e methode\n",
    "oats = food_population.loc[food_population[\"product\"] == \"Avoine\"]\n",
    "oats = oats[\"ratio_prot\"].mean()\n",
    "oats = round(oats * 100, 1)\n",
    "print(f\"Ratio protéine de l'avoine est {oats:,}%\")"
   ]
  },
  {
   "cell_type": "markdown",
   "id": "c17b5aef-0f52-42f3-925c-87ad0f9534c2",
   "metadata": {},
   "source": [
    "![purple-divider](https://user-images.githubusercontent.com/7065401/52071927-c1cd7100-2562-11e9-908a-dde91ba14e59.png)\n",
    "# Question 5 : citez 5 aliments parmi les 20 aliments"
   ]
  },
  {
   "cell_type": "markdown",
   "id": "43ab7049-0a9b-465d-9a51-425cc018c5ec",
   "metadata": {},
   "source": [
    "### Les plus caloriques"
   ]
  },
  {
   "cell_type": "code",
   "execution_count": 21,
   "id": "c1db73ff-579b-4f8b-a1ef-ecb9fa4a2378",
   "metadata": {},
   "outputs": [
    {
     "data": {
      "text/html": [
       "<div>\n",
       "<style scoped>\n",
       "    .dataframe tbody tr th:only-of-type {\n",
       "        vertical-align: middle;\n",
       "    }\n",
       "\n",
       "    .dataframe tbody tr th {\n",
       "        vertical-align: top;\n",
       "    }\n",
       "\n",
       "    .dataframe thead th {\n",
       "        text-align: right;\n",
       "    }\n",
       "</style>\n",
       "<table border=\"1\" class=\"dataframe\">\n",
       "  <thead>\n",
       "    <tr style=\"text-align: right;\">\n",
       "      <th></th>\n",
       "      <th>ratio_energie</th>\n",
       "    </tr>\n",
       "    <tr>\n",
       "      <th>product</th>\n",
       "      <th></th>\n",
       "    </tr>\n",
       "  </thead>\n",
       "  <tbody>\n",
       "    <tr>\n",
       "      <th>Huiles de Foie de Poisso</th>\n",
       "      <td>9982.932500</td>\n",
       "    </tr>\n",
       "    <tr>\n",
       "      <th>Huile de Sésame</th>\n",
       "      <td>9433.744729</td>\n",
       "    </tr>\n",
       "    <tr>\n",
       "      <th>Huile de Son de Riz</th>\n",
       "      <td>9361.549883</td>\n",
       "    </tr>\n",
       "    <tr>\n",
       "      <th>Huiles de Poissons</th>\n",
       "      <td>9003.715504</td>\n",
       "    </tr>\n",
       "    <tr>\n",
       "      <th>Huile d'Arachide</th>\n",
       "      <td>8935.765811</td>\n",
       "    </tr>\n",
       "  </tbody>\n",
       "</table>\n",
       "</div>"
      ],
      "text/plain": [
       "                          ratio_energie\n",
       "product                                \n",
       "Huiles de Foie de Poisso    9982.932500\n",
       "Huile de Sésame             9433.744729\n",
       "Huile de Son de Riz         9361.549883\n",
       "Huiles de Poissons          9003.715504\n",
       "Huile d'Arachide            8935.765811"
      ]
     },
     "execution_count": 21,
     "metadata": {},
     "output_type": "execute_result"
    }
   ],
   "source": [
    "food_population[[\"product\", \"ratio_energie\"]].groupby(\"product\").agg(\"mean\").sort_values(by=\"ratio_energie\", ascending=False).head(5)"
   ]
  },
  {
   "cell_type": "markdown",
   "id": "31fb4762-cebd-4fe8-ada6-7e8631415151",
   "metadata": {},
   "source": [
    "### Les plus riche en protéines"
   ]
  },
  {
   "cell_type": "code",
   "execution_count": 22,
   "id": "7bd937b5-b24d-46ff-b8a7-56e26157ab30",
   "metadata": {},
   "outputs": [
    {
     "data": {
      "text/html": [
       "<div>\n",
       "<style scoped>\n",
       "    .dataframe tbody tr th:only-of-type {\n",
       "        vertical-align: middle;\n",
       "    }\n",
       "\n",
       "    .dataframe tbody tr th {\n",
       "        vertical-align: top;\n",
       "    }\n",
       "\n",
       "    .dataframe thead th {\n",
       "        text-align: right;\n",
       "    }\n",
       "</style>\n",
       "<table border=\"1\" class=\"dataframe\">\n",
       "  <thead>\n",
       "    <tr style=\"text-align: right;\">\n",
       "      <th></th>\n",
       "      <th>ratio_prot</th>\n",
       "    </tr>\n",
       "    <tr>\n",
       "      <th>product</th>\n",
       "      <th></th>\n",
       "    </tr>\n",
       "  </thead>\n",
       "  <tbody>\n",
       "    <tr>\n",
       "      <th>Graines Colza/Moutarde</th>\n",
       "      <td>0.285365</td>\n",
       "    </tr>\n",
       "    <tr>\n",
       "      <th>Soja</th>\n",
       "      <td>0.285331</td>\n",
       "    </tr>\n",
       "    <tr>\n",
       "      <th>Arachides Decortiquees</th>\n",
       "      <td>0.251466</td>\n",
       "    </tr>\n",
       "    <tr>\n",
       "      <th>Pois</th>\n",
       "      <td>0.223244</td>\n",
       "    </tr>\n",
       "    <tr>\n",
       "      <th>Légumineuses Autres</th>\n",
       "      <td>0.219716</td>\n",
       "    </tr>\n",
       "  </tbody>\n",
       "</table>\n",
       "</div>"
      ],
      "text/plain": [
       "                        ratio_prot\n",
       "product                           \n",
       "Graines Colza/Moutarde    0.285365\n",
       "Soja                      0.285331\n",
       "Arachides Decortiquees    0.251466\n",
       "Pois                      0.223244\n",
       "Légumineuses Autres       0.219716"
      ]
     },
     "execution_count": 22,
     "metadata": {},
     "output_type": "execute_result"
    }
   ],
   "source": [
    "food_population[[\"product\", \"ratio_prot\"]].groupby(\"product\").agg(\"mean\").sort_values(by=\"ratio_prot\", ascending=False).head(5)"
   ]
  },
  {
   "cell_type": "markdown",
   "id": "831e4120-14ec-4a84-9a99-a1eb4c1d5758",
   "metadata": {},
   "source": [
    "![purple-divider](https://user-images.githubusercontent.com/7065401/52071927-c1cd7100-2562-11e9-908a-dde91ba14e59.png)\n",
    "# Question 6 : calculez, pour les produits végétaux uniquement, la disponibilité intérieure mondiale exprimée en kcal."
   ]
  },
  {
   "cell_type": "code",
   "execution_count": 23,
   "id": "462005c1-54aa-4904-8bfb-8144d17b7e4d",
   "metadata": {},
   "outputs": [
    {
     "name": "stdout",
     "output_type": "stream",
     "text": [
      "Disponibilité intérieure mondiale (produits végétaux): 1.2312091265143276e+16 kcal\n"
     ]
    }
   ],
   "source": [
    "plant_based = food_population.loc[food_population[\"origine\"] == \"vegetal\"].copy()\n",
    "\n",
    "plant_based[\"dispo_int_kcal\"] = plant_based[\"dispo_int\"] * plant_based[\"ratio_energie\"]\n",
    "\n",
    "plant_dispo_int_kcal = round(plant_based[\"dispo_int_kcal\"].sum(skipna=True), 2)\n",
    "print(f\"Disponibilité intérieure mondiale (produits végétaux): {plant_dispo_int_kcal:,} kcal\")"
   ]
  },
  {
   "cell_type": "markdown",
   "id": "257730e3-a6c6-4b89-91ad-f66a367a426b",
   "metadata": {},
   "source": [
    "![purple-divider](https://user-images.githubusercontent.com/7065401/52071927-c1cd7100-2562-11e9-908a-dde91ba14e59.png)\n",
    "#  Question 7 : combien d'humains pourraient être nourris si toute la disponibilité intérieure mondiale de produits végétaux était utilisée pour de la nourriture ?"
   ]
  },
  {
   "cell_type": "code",
   "execution_count": 24,
   "id": "c42b60a3-c84c-4a98-91b3-97486e9feecf",
   "metadata": {},
   "outputs": [],
   "source": [
    "# Conversions\n",
    "av_prot_g = 0.8\n",
    "av_poids_kg = 60\n",
    "\n",
    "prot_intake = round((av_prot_g * av_poids_kg) / g_to_kg, 2)\n",
    "kcal_intake = 2200"
   ]
  },
  {
   "cell_type": "markdown",
   "id": "0432055d-8904-4d8e-846a-de3a1f7f8804",
   "metadata": {},
   "source": [
    "---\n",
    "### Disponibilité intérieure mondiale exprimée en (protèines) kg"
   ]
  },
  {
   "cell_type": "code",
   "execution_count": 25,
   "id": "d5aec51a-ff91-4e9f-a0e1-75d89597de65",
   "metadata": {},
   "outputs": [
    {
     "name": "stdout",
     "output_type": "stream",
     "text": [
      "Disponibilité intérieure mondiale (produits végétaux): 290,177,334,142.14 kg of proteins\n"
     ]
    }
   ],
   "source": [
    "plant_based[\"dispo_int_prot\"] = plant_based[\"dispo_int\"] * plant_based[\"ratio_prot\"]\n",
    "\n",
    "plant_dispo_int_prot = round(plant_based[\"dispo_int_prot\"].sum(skipna=True), 2)\n",
    "print(f\"Disponibilité intérieure mondiale (produits végétaux): {plant_dispo_int_prot:,} kg of proteins\")"
   ]
  },
  {
   "cell_type": "markdown",
   "id": "8d1f554c-b6fc-45cd-ac86-2eef028308a3",
   "metadata": {},
   "source": [
    "---\n",
    "### En termes de CALORIES et en pourcentage de la population mondiale."
   ]
  },
  {
   "cell_type": "code",
   "execution_count": 26,
   "id": "32cbb1e7-1355-4343-99d3-c11de4ce815d",
   "metadata": {},
   "outputs": [
    {
     "name": "stdout",
     "output_type": "stream",
     "text": [
      "The calorie equivalent would feed around 15,332,616,768.55 people with the world's PLANT-based domestic supply\n",
      "The calorie equivalent would feed about 219.12% of the population with the world's PLANT-based domestic supply\n"
     ]
    }
   ],
   "source": [
    "humans_kcal = plant_based[\"dispo_int_kcal\"].sum(skipna=True) / (kcal_intake * days)\n",
    "\n",
    "kcal_formatted = round(humans_kcal, 2)\n",
    "print(f\"The calorie equivalent would feed around {kcal_formatted:,} people with the world's PLANT-based domestic supply\")\n",
    "\n",
    "# CALORIES en pourcentage\n",
    "humans_kcal_percent = (kcal_formatted / population[\"population\"].sum(skipna=True)) * 100\n",
    "print(f\"The calorie equivalent would feed about {humans_kcal_percent:.2f}% of the population with the world's PLANT-based domestic supply\")"
   ]
  },
  {
   "cell_type": "markdown",
   "id": "808452f5-5ec8-49b5-bae5-8a21e3c86929",
   "metadata": {},
   "source": [
    "### En termes de PROTÈINES et en pourcentage de la population mondiale."
   ]
  },
  {
   "cell_type": "code",
   "execution_count": 27,
   "id": "7bbce824-619c-4f4d-9dac-502a540bd45b",
   "metadata": {},
   "outputs": [
    {
     "name": "stdout",
     "output_type": "stream",
     "text": [
      "The protein equivalent would feed around 15,900,127,898.2 people with the world's PLANT-based domestic supply\n",
      "The protein equivalent would feed about 227.23% of the population with the world's PLANT-based domestic supply\n"
     ]
    }
   ],
   "source": [
    "humans_prot = plant_dispo_int_prot / (prot_intake * days)\n",
    "\n",
    "prot_formatted = round(humans_prot, 2)\n",
    "print(f\"The protein equivalent would feed around {prot_formatted:,} people with the world's PLANT-based domestic supply\")\n",
    "\n",
    "# PROTÉINES en pourcentage\n",
    "humans_prot_percent = (prot_formatted / population[\"population\"].sum(skipna=True)) * 100\n",
    "print(f\"The protein equivalent would feed about {humans_prot_percent:.2f}% of the population with the world's PLANT-based domestic supply\")"
   ]
  },
  {
   "cell_type": "markdown",
   "id": "3f42ca89-0f20-4502-8fd6-8bc2a5cbb2a1",
   "metadata": {},
   "source": [
    "![purple-divider](https://user-images.githubusercontent.com/7065401/52071927-c1cd7100-2562-11e9-908a-dde91ba14e59.png)\n",
    "#  Question 8 : combien d'humains pourraient être nourris si toute la disponibilité alimentaire en produits végétaux la nourriture végétale destinée aux animaux et les pertes de produits végétaux étaient utilisés pour de la nourriture ?"
   ]
  },
  {
   "cell_type": "code",
   "execution_count": 28,
   "id": "b1d53371-3247-41d4-a8eb-069c3c5250e8",
   "metadata": {},
   "outputs": [],
   "source": [
    "plant_based[\"plant_food_kg\"] = plant_based[\"nourriture\"] + plant_based[\"animal_food\"] + plant_based[\"pertes\"]"
   ]
  },
  {
   "cell_type": "markdown",
   "id": "ad8ea136-c0f5-4589-999b-6f8e0ebd5765",
   "metadata": {},
   "source": [
    "---\n",
    "### Disponibilité alimentaire (nourriture, pertes et aliments pour animaux) exprimée en (calories) kcal"
   ]
  },
  {
   "cell_type": "code",
   "execution_count": 29,
   "id": "a89b9a56-70d3-4415-a9f9-9a045ce2d4be",
   "metadata": {},
   "outputs": [
    {
     "name": "stdout",
     "output_type": "stream",
     "text": [
      "Disponibilité alimentaire (nourriture, pertes et aliments pour animaux): 5,967,656,072,762,229 kcal\n"
     ]
    }
   ],
   "source": [
    "plant_based[\"plant_food_kcal\"] = plant_based[\"plant_food_kg\"] * plant_based[\"ratio_energie\"]\n",
    "\n",
    "plant_based_kcal = round(plant_based[\"plant_food_kcal\"].sum(skipna=True))\n",
    "print(f\"Disponibilité alimentaire (nourriture, pertes et aliments pour animaux): {plant_based_kcal:,} kcal\")"
   ]
  },
  {
   "cell_type": "markdown",
   "id": "7fb322be-5b67-4bed-94a1-3f23d90c229f",
   "metadata": {},
   "source": [
    "### Disponibilité alimentaire (nourriture, pertes et aliments pour animaux) exprimée en (protèines) kg"
   ]
  },
  {
   "cell_type": "code",
   "execution_count": 30,
   "id": "924bc1d9-f96b-4dd0-ad89-c3a3959345eb",
   "metadata": {},
   "outputs": [
    {
     "name": "stdout",
     "output_type": "stream",
     "text": [
      "Disponibilité alimentaire (nourriture, pertes et aliments pour animaux): 156,346,045,335.88 kg of proteins\n"
     ]
    }
   ],
   "source": [
    "plant_based[\"plant_food_prot\"] = plant_based[\"plant_food_kg\"] * plant_based[\"ratio_prot\"]\n",
    "\n",
    "plant_based_prot = round(plant_based[\"plant_food_prot\"].sum(skipna=True), 2)\n",
    "print(f\"Disponibilité alimentaire (nourriture, pertes et aliments pour animaux): {plant_based_prot:,} kg of proteins\")"
   ]
  },
  {
   "cell_type": "markdown",
   "id": "15122e97-c6fa-47b5-a571-a452443a5ed0",
   "metadata": {},
   "source": [
    "---\n",
    "### En termes de calories et en pourcentage de la population mondiale."
   ]
  },
  {
   "cell_type": "code",
   "execution_count": 31,
   "id": "2c5799b0-01b8-4381-b03c-c4d9127a92d8",
   "metadata": {},
   "outputs": [
    {
     "name": "stdout",
     "output_type": "stream",
     "text": [
      "The calorie equivalent would feed around 7,431,701,211.41 of the population\n",
      "The calorie equivalent would feed about 106.21% of the population\n"
     ]
    }
   ],
   "source": [
    "human_plant_kcal = plant_based_kcal / (kcal_intake * days)\n",
    "\n",
    "human_plant_kcal = round(human_plant_kcal, 2)\n",
    "print(f\"The calorie equivalent would feed around {human_plant_kcal:,} of the population\")\n",
    "\n",
    "# CALORIES en pourcentage\n",
    "human_plant_kcal_percent = (human_plant_kcal / population[\"population\"].sum(skipna=True))* 100\n",
    "print(f\"The calorie equivalent would feed about {human_plant_kcal_percent:.2f}% of the population\")"
   ]
  },
  {
   "cell_type": "markdown",
   "id": "04ec7a12-f93f-4145-a546-2774cbe99de1",
   "metadata": {},
   "source": [
    "### En termes de protéines et en pourcentage de la population mondiale."
   ]
  },
  {
   "cell_type": "code",
   "execution_count": 32,
   "id": "5db8d92a-884b-4f0e-b6a3-d13d5589cab8",
   "metadata": {},
   "outputs": [
    {
     "name": "stdout",
     "output_type": "stream",
     "text": [
      "The protein equivalent would feed around 8,566,906,593.75 of the population\n",
      "The protein equivalent would feed about 122.43% of the population\n"
     ]
    }
   ],
   "source": [
    "human_plant_prot = plant_based_prot / (prot_intake * days)\n",
    "\n",
    "human_plant_prot = round(human_plant_prot, 2)\n",
    "print(f\"The protein equivalent would feed around {human_plant_prot:,} of the population\")\n",
    "\n",
    "# PROTÈINES en pourcentage\n",
    "human_plant_prot_percent = (human_plant_prot / population[\"population\"].sum(skipna=True))* 100\n",
    "print(f\"The protein equivalent would feed about {human_plant_prot_percent:.2f}% of the population\")"
   ]
  },
  {
   "cell_type": "markdown",
   "id": "c74885fe-602e-412b-b900-15a086105671",
   "metadata": {},
   "source": [
    "![purple-divider](https://user-images.githubusercontent.com/7065401/52071927-c1cd7100-2562-11e9-908a-dde91ba14e59.png)\n",
    "# Question 9 : combien d'humains pourraient être nourris avec la disponibilité alimentaire mondiale ?"
   ]
  },
  {
   "cell_type": "markdown",
   "id": "cb87d8ac-2ac7-4058-aa20-c06b72bf2fd6",
   "metadata": {},
   "source": [
    "---\n",
    "### Disponibilité alimentaire (vegetaux et animaux) exprimée en (calories) kcal"
   ]
  },
  {
   "cell_type": "code",
   "execution_count": 33,
   "id": "5aca48f3-0a0b-489a-80f5-573cc920b028",
   "metadata": {},
   "outputs": [
    {
     "name": "stdout",
     "output_type": "stream",
     "text": [
      "ANIMAL and PLANT based foods: 7,360,354,597,265,000 kcal\n"
     ]
    }
   ],
   "source": [
    "food_population[\"food_kcal\"] = food_population[\"nourriture\"] * food_population[\"ratio_energie\"]\n",
    "\n",
    "food_kcal_sum = round(food_population[\"food_kcal\"].sum(skipna=True))\n",
    "print(f\"ANIMAL and PLANT based foods: {food_kcal_sum:,} kcal\")"
   ]
  },
  {
   "cell_type": "markdown",
   "id": "f271dc43-9fe4-4882-9712-af7da949e968",
   "metadata": {},
   "source": [
    "### Disponibilité alimentaire (vegetaux et animaux) exprimée en (protèines) kg"
   ]
  },
  {
   "cell_type": "code",
   "execution_count": 34,
   "id": "f01f9650-ee44-4a9b-85c0-30a786eed6d3",
   "metadata": {},
   "outputs": [
    {
     "name": "stdout",
     "output_type": "stream",
     "text": [
      "ANIMAL and PLANT based foods: 207,145,508,486.9 kg of proteins\n"
     ]
    }
   ],
   "source": [
    "food_population[\"food_prot\"] = food_population[\"nourriture\"] * food_population[\"ratio_prot\"]\n",
    "\n",
    "food_prot_sum = round(food_population[\"food_prot\"].sum(skipna=True), 2)\n",
    "print(f\"ANIMAL and PLANT based foods: {food_prot_sum:,} kg of proteins\")"
   ]
  },
  {
   "cell_type": "markdown",
   "id": "5e3a9a8a-c1ed-4f33-8a3e-96248f0a536a",
   "metadata": {},
   "source": [
    "---\n",
    "### En termes de calories et en pourcentage de la population mondiale."
   ]
  },
  {
   "cell_type": "code",
   "execution_count": 35,
   "id": "eaa88c19-0d54-40c8-a4e9-a42f7049ac6b",
   "metadata": {},
   "outputs": [
    {
     "name": "stdout",
     "output_type": "stream",
     "text": [
      "The calorie equivalent would feed around 9,166,070,482.27 of the population\n",
      "The calorie equivalent would feed about 130.99% of the population\n"
     ]
    }
   ],
   "source": [
    "human_food_kcal = food_population[\"food_kcal\"].sum(skipna=True) / (kcal_intake * days)\n",
    "\n",
    "human_food_kcal = round(human_food_kcal, 2)\n",
    "print(f\"The calorie equivalent would feed around {human_food_kcal:,} of the population\")\n",
    "\n",
    "# CALORIES en pourcentage\n",
    "human_food_kcal_percent = (human_food_kcal / population[\"population\"].sum(skipna=True))* 100\n",
    "print(f\"The calorie equivalent would feed about {human_food_kcal_percent:.2f}% of the population\")"
   ]
  },
  {
   "cell_type": "markdown",
   "id": "45ba371c-5653-4ea8-9dd2-3f272ab62c9d",
   "metadata": {},
   "source": [
    "### En termes de protéines et en pourcentage de la population mondiale."
   ]
  },
  {
   "cell_type": "code",
   "execution_count": 36,
   "id": "f886e262-1a7d-49b3-81e3-2ef3494b97c2",
   "metadata": {},
   "outputs": [
    {
     "name": "stdout",
     "output_type": "stream",
     "text": [
      "The protein equivalent would feed around 11,350,438,821.2 of the population\n",
      "The protein equivalent would feed about 162.21% of the population\n"
     ]
    }
   ],
   "source": [
    "human_food_prot = food_prot_sum / (prot_intake * days)\n",
    "\n",
    "human_food_prot = round(human_food_prot, 2)\n",
    "print(f\"The protein equivalent would feed around {human_food_prot:,} of the population\")\n",
    "\n",
    "# PROTÈINES en pourcentage\n",
    "human_food_prot_percent = (human_food_prot / population[\"population\"].sum(skipna=True))* 100\n",
    "print(f\"The protein equivalent would feed about {human_food_prot_percent:.2f}% of the population\")"
   ]
  },
  {
   "cell_type": "markdown",
   "id": "93d29fe4-632d-428c-a52e-a43a48591f9f",
   "metadata": {},
   "source": [
    "![purple-divider](https://user-images.githubusercontent.com/7065401/52071927-c1cd7100-2562-11e9-908a-dde91ba14e59.png)\n",
    "# Question 10 : quelle proportion de la population mondiale est considérée comme étant en sous-nutrition ?"
   ]
  },
  {
   "cell_type": "code",
   "execution_count": 37,
   "id": "a3816f7e-323c-4b86-b223-9b8614b21792",
   "metadata": {},
   "outputs": [],
   "source": [
    "under.rename(columns= {\"Code Domaine\": \"domain_code\",\n",
    "                       \"Domaine\": \"domain\",\n",
    "                       \"Code zone\":\"country_code\",\n",
    "                       \"Zone\":\"country\",\n",
    "                       \"Code Élément\": \"element_code\",\n",
    "                       \"Élément\": \"element\",\n",
    "                       \"Code Produit\":\"product_code\",\n",
    "                       \"Produit\":\"product\",\n",
    "                       \"Code année\": \"year_code\",\n",
    "                       \"Année\":\"year\",\n",
    "                       \"Unité\": \"unit\",\n",
    "                       \"Valeur\": \"undernourished\",\n",
    "                       \"Symbole\": \"symbol\",\n",
    "                       \"Description du Symbole\": \"description\",\n",
    "                       \"Note\": \"note\"\n",
    "                       }, inplace=True)"
   ]
  },
  {
   "cell_type": "code",
   "execution_count": 38,
   "id": "756b09d6-b33d-4c67-b22d-0eff1b647994",
   "metadata": {},
   "outputs": [],
   "source": [
    "# Nettoyage des données\n",
    "under[\"year\"] = pd.to_numeric(under[\"year\"].str[0:4])+1\n",
    "under.replace('<0.1', 0.0, inplace=True)\n",
    "under[\"undernourished\"] = under[\"undernourished\"].astype(float)\n",
    "\n",
    "# Conversion des unités (millions)\n",
    "under[\"undernourished\"] *= 1000000\n",
    "\n",
    "# Isolation de l'année 2013 sans excès (Chine)\n",
    "under = under.loc[under[\"year\"] == 2013]\n",
    "under.loc[under[\"country\"].str.contains(\"Chine\", case=False)]\n",
    "under.drop(index=185, inplace=True)"
   ]
  },
  {
   "cell_type": "code",
   "execution_count": 57,
   "id": "fcd24bd6-0d6f-445e-9f57-c623bad62ba8",
   "metadata": {},
   "outputs": [
    {
     "name": "stdout",
     "output_type": "stream",
     "text": [
      "In 2013, there are 743,700,000 millions of undernourished in the world, \n",
      "Accounting for 10.63% of the world's population\n"
     ]
    }
   ],
   "source": [
    "under_sum = round(under[\"undernourished\"].sum(skipna=True))\n",
    "under_percent = round(under_sum * 100 / population[\"population\"].sum(), 2)\n",
    "\n",
    "print(f\"In 2013, there are {under_sum:,} millions of undernourished in the world, \\nAccounting for {under_percent:.2f}% of the world's population\")"
   ]
  },
  {
   "cell_type": "markdown",
   "id": "ac149265-eab9-4638-99fe-2e87e1537e8b",
   "metadata": {},
   "source": [
    "![green-divider](https://user-images.githubusercontent.com/7065401/52071924-c003ad80-2562-11e9-8297-1c6595f8a7ff.png)\n",
    "## Transitional question"
   ]
  },
  {
   "cell_type": "code",
   "execution_count": 40,
   "id": "a4e287fb-c142-47d2-8aa2-ee878400f91e",
   "metadata": {},
   "outputs": [],
   "source": [
    "cereals.rename(columns= {\"Code Domaine\": \"domain_code\",\n",
    "                       \"Domaine\": \"domain\",\n",
    "                       \"Code zone\":\"country_code\",\n",
    "                       \"Zone\":\"country\",\n",
    "                       \"Code Élément\": \"element_code\",\n",
    "                       \"Élément\": \"element\",\n",
    "                       \"Code Produit\":\"product_code\",\n",
    "                       \"Produit\":\"product\",\n",
    "                       \"Code année\": \"year_code\",\n",
    "                       \"Année\":\"year\",\n",
    "                       \"Unité\": \"unit\",\n",
    "                       \"Valeur\": \"values\",\n",
    "                       \"Symbole\": \"symbol\",\n",
    "                       \"Description du Symbole\": \"description\"\n",
    "                       }, inplace=True)"
   ]
  },
  {
   "cell_type": "markdown",
   "id": "dd91a7ed-de8b-41d7-ac04-9003a3bb7251",
   "metadata": {},
   "source": [
    "Établissez la liste des produits (ainsi que leur code) considéré comme des céréales selon la FAO."
   ]
  },
  {
   "cell_type": "code",
   "execution_count": 41,
   "id": "2300d697-9c28-4f22-938f-72e341c674af",
   "metadata": {},
   "outputs": [
    {
     "data": {
      "text/html": [
       "<div>\n",
       "<style scoped>\n",
       "    .dataframe tbody tr th:only-of-type {\n",
       "        vertical-align: middle;\n",
       "    }\n",
       "\n",
       "    .dataframe tbody tr th {\n",
       "        vertical-align: top;\n",
       "    }\n",
       "\n",
       "    .dataframe thead th {\n",
       "        text-align: right;\n",
       "    }\n",
       "</style>\n",
       "<table border=\"1\" class=\"dataframe\">\n",
       "  <thead>\n",
       "    <tr style=\"text-align: right;\">\n",
       "      <th></th>\n",
       "      <th>product</th>\n",
       "      <th>product_code</th>\n",
       "    </tr>\n",
       "  </thead>\n",
       "  <tbody>\n",
       "    <tr>\n",
       "      <th>0</th>\n",
       "      <td>Blé</td>\n",
       "      <td>2511</td>\n",
       "    </tr>\n",
       "    <tr>\n",
       "      <th>1</th>\n",
       "      <td>Riz (Eq Blanchi)</td>\n",
       "      <td>2805</td>\n",
       "    </tr>\n",
       "    <tr>\n",
       "      <th>2</th>\n",
       "      <td>Orge</td>\n",
       "      <td>2513</td>\n",
       "    </tr>\n",
       "    <tr>\n",
       "      <th>3</th>\n",
       "      <td>Maïs</td>\n",
       "      <td>2514</td>\n",
       "    </tr>\n",
       "    <tr>\n",
       "      <th>4</th>\n",
       "      <td>Millet</td>\n",
       "      <td>2517</td>\n",
       "    </tr>\n",
       "    <tr>\n",
       "      <th>9</th>\n",
       "      <td>Seigle</td>\n",
       "      <td>2515</td>\n",
       "    </tr>\n",
       "    <tr>\n",
       "      <th>10</th>\n",
       "      <td>Avoine</td>\n",
       "      <td>2516</td>\n",
       "    </tr>\n",
       "    <tr>\n",
       "      <th>12</th>\n",
       "      <td>Sorgho</td>\n",
       "      <td>2518</td>\n",
       "    </tr>\n",
       "    <tr>\n",
       "      <th>13</th>\n",
       "      <td>Céréales, Autres</td>\n",
       "      <td>2520</td>\n",
       "    </tr>\n",
       "  </tbody>\n",
       "</table>\n",
       "</div>"
      ],
      "text/plain": [
       "             product  product_code\n",
       "0                Blé          2511\n",
       "1   Riz (Eq Blanchi)          2805\n",
       "2               Orge          2513\n",
       "3               Maïs          2514\n",
       "4             Millet          2517\n",
       "9             Seigle          2515\n",
       "10            Avoine          2516\n",
       "12            Sorgho          2518\n",
       "13  Céréales, Autres          2520"
      ]
     },
     "execution_count": 41,
     "metadata": {},
     "output_type": "execute_result"
    }
   ],
   "source": [
    "enum_cereal = cereals[[\"product\", \"product_code\"]]\n",
    "enum_cereal.drop_duplicates()"
   ]
  },
  {
   "cell_type": "markdown",
   "id": "788cf12f-6b08-42ee-a383-ad50f6f1a888",
   "metadata": {},
   "source": [
    "Repérez dans vos données les informations concernant les céréales (par exemple en créant une colonne de type booléen nommée \"is_cereal\")."
   ]
  },
  {
   "cell_type": "code",
   "execution_count": 42,
   "id": "d0fbc881-9da8-4485-b53d-8aec1c3e6c64",
   "metadata": {},
   "outputs": [
    {
     "data": {
      "text/html": [
       "<div>\n",
       "<style scoped>\n",
       "    .dataframe tbody tr th:only-of-type {\n",
       "        vertical-align: middle;\n",
       "    }\n",
       "\n",
       "    .dataframe tbody tr th {\n",
       "        vertical-align: top;\n",
       "    }\n",
       "\n",
       "    .dataframe thead th {\n",
       "        text-align: right;\n",
       "    }\n",
       "</style>\n",
       "<table border=\"1\" class=\"dataframe\">\n",
       "  <thead>\n",
       "    <tr style=\"text-align: right;\">\n",
       "      <th></th>\n",
       "      <th>country</th>\n",
       "      <th>product</th>\n",
       "      <th>product_code</th>\n",
       "      <th>is_cereal</th>\n",
       "    </tr>\n",
       "  </thead>\n",
       "  <tbody>\n",
       "    <tr>\n",
       "      <th>0</th>\n",
       "      <td>Arménie</td>\n",
       "      <td>Blé</td>\n",
       "      <td>2511</td>\n",
       "      <td>True</td>\n",
       "    </tr>\n",
       "    <tr>\n",
       "      <th>1</th>\n",
       "      <td>Arménie</td>\n",
       "      <td>Orge</td>\n",
       "      <td>2513</td>\n",
       "      <td>True</td>\n",
       "    </tr>\n",
       "  </tbody>\n",
       "</table>\n",
       "</div>"
      ],
      "text/plain": [
       "   country product  product_code  is_cereal\n",
       "0  Arménie     Blé          2511       True\n",
       "1  Arménie    Orge          2513       True"
      ]
     },
     "execution_count": 42,
     "metadata": {},
     "output_type": "execute_result"
    }
   ],
   "source": [
    "cereal_list = cereals[\"product\"].unique()\n",
    "\n",
    "food_population[\"is_cereal\"] = food_population[\"product\"].isin(cereal_list)\n",
    "\n",
    "food_population[[\"country\", \"product\", \"product_code\", \"is_cereal\"]].head(2)"
   ]
  },
  {
   "cell_type": "markdown",
   "id": "fb9cc7f7-410a-43d0-9cf6-97b7ebe27dd7",
   "metadata": {},
   "source": [
    "![purple-divider](https://user-images.githubusercontent.com/7065401/52071927-c1cd7100-2562-11e9-908a-dde91ba14e59.png)\n",
    "# Question 11 : quelle proportion (en termes de poids) est destinée à l'alimentation animale ?"
   ]
  },
  {
   "cell_type": "code",
   "execution_count": 43,
   "id": "acfa3744-a333-4511-888b-3d4e2f42e5b6",
   "metadata": {},
   "outputs": [
    {
     "name": "stdout",
     "output_type": "stream",
     "text": [
      "Cereals for human food = 1,029,010,000,000\n",
      "Cereals for animal food = 873,535,000,000\n",
      "Total cereals = 1,902,545,000,000\n",
      " \n",
      "Cereals intended for animal feed represents 45.91% of the cereals used for human feed\n"
     ]
    }
   ],
   "source": [
    "only_cereal = food_population.loc[food_population[\"is_cereal\"] == True]\n",
    "\n",
    "only_cereal_foods = round(only_cereal[\"nourriture\"].sum(skipna=True))\n",
    "print(f\"Cereals for human food = {only_cereal_foods:,}\")\n",
    "\n",
    "only_cereal_animal = round(only_cereal[\"animal_food\"].sum(skipna=True))\n",
    "print(f\"Cereals for animal food = {only_cereal_animal:,}\")\n",
    "\n",
    "total_cereals = only_cereal_foods + only_cereal_animal\n",
    "print(f\"Total cereals = {total_cereals:,}\")\n",
    "print(\" \")\n",
    "\n",
    "animal_ratio_cereal = round(only_cereal_animal / (total_cereals) * 100, 2)\n",
    "print(f\"Cereals intended for animal feed represents {animal_ratio_cereal:.2f}% of the cereals used for human feed\")"
   ]
  },
  {
   "cell_type": "markdown",
   "id": "b315d5f1-23f3-4ff5-adef-006142e90478",
   "metadata": {},
   "source": [
    "![green-divider](https://user-images.githubusercontent.com/7065401/52071924-c003ad80-2562-11e9-8297-1c6595f8a7ff.png)\n",
    "## Transitional question\n",
    "Repérez les 15 produits les plus exportés par ce groupe de pays."
   ]
  },
  {
   "cell_type": "code",
   "execution_count": 44,
   "id": "dc811f82-46ac-40b7-a7c2-f96f922aad8a",
   "metadata": {},
   "outputs": [
    {
     "data": {
      "text/html": [
       "<div>\n",
       "<style scoped>\n",
       "    .dataframe tbody tr th:only-of-type {\n",
       "        vertical-align: middle;\n",
       "    }\n",
       "\n",
       "    .dataframe tbody tr th {\n",
       "        vertical-align: top;\n",
       "    }\n",
       "\n",
       "    .dataframe thead th {\n",
       "        text-align: right;\n",
       "    }\n",
       "</style>\n",
       "<table border=\"1\" class=\"dataframe\">\n",
       "  <thead>\n",
       "    <tr style=\"text-align: right;\">\n",
       "      <th></th>\n",
       "      <th>product</th>\n",
       "      <th>exports</th>\n",
       "    </tr>\n",
       "  </thead>\n",
       "  <tbody>\n",
       "    <tr>\n",
       "      <th>0</th>\n",
       "      <td>Huile de Palme</td>\n",
       "      <td>4.628500e+10</td>\n",
       "    </tr>\n",
       "    <tr>\n",
       "      <th>1</th>\n",
       "      <td>Maïs</td>\n",
       "      <td>3.788800e+10</td>\n",
       "    </tr>\n",
       "    <tr>\n",
       "      <th>2</th>\n",
       "      <td>Manioc</td>\n",
       "      <td>3.584300e+10</td>\n",
       "    </tr>\n",
       "    <tr>\n",
       "      <th>3</th>\n",
       "      <td>Riz (Eq Blanchi)</td>\n",
       "      <td>3.278700e+10</td>\n",
       "    </tr>\n",
       "    <tr>\n",
       "      <th>4</th>\n",
       "      <td>Sucre Eq Brut</td>\n",
       "      <td>2.523700e+10</td>\n",
       "    </tr>\n",
       "    <tr>\n",
       "      <th>5</th>\n",
       "      <td>Blé</td>\n",
       "      <td>2.484100e+10</td>\n",
       "    </tr>\n",
       "    <tr>\n",
       "      <th>6</th>\n",
       "      <td>Légumes, Autres</td>\n",
       "      <td>1.994800e+10</td>\n",
       "    </tr>\n",
       "    <tr>\n",
       "      <th>7</th>\n",
       "      <td>Bananes</td>\n",
       "      <td>1.780500e+10</td>\n",
       "    </tr>\n",
       "    <tr>\n",
       "      <th>8</th>\n",
       "      <td>Fruits, Autres</td>\n",
       "      <td>1.459000e+10</td>\n",
       "    </tr>\n",
       "    <tr>\n",
       "      <th>9</th>\n",
       "      <td>Lait - Excl Beurre</td>\n",
       "      <td>1.448600e+10</td>\n",
       "    </tr>\n",
       "    <tr>\n",
       "      <th>10</th>\n",
       "      <td>Soja</td>\n",
       "      <td>1.438900e+10</td>\n",
       "    </tr>\n",
       "    <tr>\n",
       "      <th>11</th>\n",
       "      <td>Poissons Pelagiques</td>\n",
       "      <td>1.368000e+10</td>\n",
       "    </tr>\n",
       "    <tr>\n",
       "      <th>12</th>\n",
       "      <td>Tomates</td>\n",
       "      <td>8.901000e+09</td>\n",
       "    </tr>\n",
       "    <tr>\n",
       "      <th>13</th>\n",
       "      <td>Pommes</td>\n",
       "      <td>7.786000e+09</td>\n",
       "    </tr>\n",
       "    <tr>\n",
       "      <th>14</th>\n",
       "      <td>Oranges, Mandarines</td>\n",
       "      <td>6.838000e+09</td>\n",
       "    </tr>\n",
       "  </tbody>\n",
       "</table>\n",
       "</div>"
      ],
      "text/plain": [
       "                product       exports\n",
       "0        Huile de Palme  4.628500e+10\n",
       "1                  Maïs  3.788800e+10\n",
       "2                Manioc  3.584300e+10\n",
       "3      Riz (Eq Blanchi)  3.278700e+10\n",
       "4         Sucre Eq Brut  2.523700e+10\n",
       "5                   Blé  2.484100e+10\n",
       "6       Légumes, Autres  1.994800e+10\n",
       "7               Bananes  1.780500e+10\n",
       "8        Fruits, Autres  1.459000e+10\n",
       "9    Lait - Excl Beurre  1.448600e+10\n",
       "10                 Soja  1.438900e+10\n",
       "11  Poissons Pelagiques  1.368000e+10\n",
       "12              Tomates  8.901000e+09\n",
       "13               Pommes  7.786000e+09\n",
       "14  Oranges, Mandarines  6.838000e+09"
      ]
     },
     "execution_count": 44,
     "metadata": {},
     "output_type": "execute_result"
    }
   ],
   "source": [
    "#creating a list of undernourished countries from the undernourished data\n",
    "under_country = under.loc[under[\"undernourished\"] > 0][\"country\"].unique()\n",
    "\n",
    "# and adding an indication to the main DataFrame\n",
    "food_population[\"is_under\"] = food_population[\"country\"].isin(under_country)\n",
    "\n",
    "# STEP 1 = isolating undernourished countries\n",
    "unders = food_population[food_population[\"is_under\"] == True]\n",
    "\n",
    "# STEP 2 = returning 15 of the most exported products from them\n",
    "most_exported = unders.groupby(\"product\")[\"exports\"].sum().sort_values(ascending=False).reset_index().head(15)\n",
    "most_exported"
   ]
  },
  {
   "cell_type": "markdown",
   "id": "c79fd51a-96a4-47aa-8089-459f68c05861",
   "metadata": {},
   "source": [
    "Parmi les données des bilans alimentaires au niveau mondial, sélectionnez les 200 plus grandes importations de ces produits (1 importation = une quantité d'un produit donné importée par un pays donné)"
   ]
  },
  {
   "cell_type": "code",
   "execution_count": 45,
   "id": "0b6996d6-0897-4a6f-a136-6c5923a62c2d",
   "metadata": {},
   "outputs": [
    {
     "data": {
      "text/html": [
       "<div>\n",
       "<style scoped>\n",
       "    .dataframe tbody tr th:only-of-type {\n",
       "        vertical-align: middle;\n",
       "    }\n",
       "\n",
       "    .dataframe tbody tr th {\n",
       "        vertical-align: top;\n",
       "    }\n",
       "\n",
       "    .dataframe thead th {\n",
       "        text-align: right;\n",
       "    }\n",
       "</style>\n",
       "<table border=\"1\" class=\"dataframe\">\n",
       "  <thead>\n",
       "    <tr style=\"text-align: right;\">\n",
       "      <th></th>\n",
       "      <th>country</th>\n",
       "      <th>product</th>\n",
       "      <th>imports</th>\n",
       "    </tr>\n",
       "  </thead>\n",
       "  <tbody>\n",
       "    <tr>\n",
       "      <th>1748</th>\n",
       "      <td>Chine, continentale</td>\n",
       "      <td>Soja</td>\n",
       "      <td>6.338100e+10</td>\n",
       "    </tr>\n",
       "    <tr>\n",
       "      <th>371</th>\n",
       "      <td>Chine, continentale</td>\n",
       "      <td>Manioc</td>\n",
       "      <td>2.904600e+10</td>\n",
       "    </tr>\n",
       "    <tr>\n",
       "      <th>247</th>\n",
       "      <td>Japon</td>\n",
       "      <td>Maïs</td>\n",
       "      <td>1.440300e+10</td>\n",
       "    </tr>\n",
       "    <tr>\n",
       "      <th>900</th>\n",
       "      <td>Égypte</td>\n",
       "      <td>Blé</td>\n",
       "      <td>1.033100e+10</td>\n",
       "    </tr>\n",
       "    <tr>\n",
       "      <th>253</th>\n",
       "      <td>République de Corée</td>\n",
       "      <td>Maïs</td>\n",
       "      <td>8.755000e+09</td>\n",
       "    </tr>\n",
       "    <tr>\n",
       "      <th>...</th>\n",
       "      <td>...</td>\n",
       "      <td>...</td>\n",
       "      <td>...</td>\n",
       "    </tr>\n",
       "    <tr>\n",
       "      <th>605</th>\n",
       "      <td>Malaisie</td>\n",
       "      <td>Riz (Eq Blanchi)</td>\n",
       "      <td>1.079000e+09</td>\n",
       "    </tr>\n",
       "    <tr>\n",
       "      <th>1106</th>\n",
       "      <td>Italie</td>\n",
       "      <td>Légumes, Autres</td>\n",
       "      <td>1.061000e+09</td>\n",
       "    </tr>\n",
       "    <tr>\n",
       "      <th>1713</th>\n",
       "      <td>Viet Nam</td>\n",
       "      <td>Lait - Excl Beurre</td>\n",
       "      <td>1.041000e+09</td>\n",
       "    </tr>\n",
       "    <tr>\n",
       "      <th>981</th>\n",
       "      <td>Pologne</td>\n",
       "      <td>Blé</td>\n",
       "      <td>1.037000e+09</td>\n",
       "    </tr>\n",
       "    <tr>\n",
       "      <th>192</th>\n",
       "      <td>Canada</td>\n",
       "      <td>Maïs</td>\n",
       "      <td>1.035000e+09</td>\n",
       "    </tr>\n",
       "  </tbody>\n",
       "</table>\n",
       "<p>200 rows × 3 columns</p>\n",
       "</div>"
      ],
      "text/plain": [
       "                  country             product       imports\n",
       "1748  Chine, continentale                Soja  6.338100e+10\n",
       "371   Chine, continentale              Manioc  2.904600e+10\n",
       "247                 Japon                Maïs  1.440300e+10\n",
       "900                Égypte                 Blé  1.033100e+10\n",
       "253   République de Corée                Maïs  8.755000e+09\n",
       "...                   ...                 ...           ...\n",
       "605              Malaisie    Riz (Eq Blanchi)  1.079000e+09\n",
       "1106               Italie     Légumes, Autres  1.061000e+09\n",
       "1713             Viet Nam  Lait - Excl Beurre  1.041000e+09\n",
       "981               Pologne                 Blé  1.037000e+09\n",
       "192                Canada                Maïs  1.035000e+09\n",
       "\n",
       "[200 rows x 3 columns]"
      ]
     },
     "execution_count": 45,
     "metadata": {},
     "output_type": "execute_result"
    }
   ],
   "source": [
    "most_imported = pd.merge(most_exported, food_population, on=\"product\", how=\"left\").copy()\n",
    "\n",
    "most_imported = most_imported.sort_values(by=\"imports\", ascending=False).iloc[:200]\n",
    "most_imported[[\"country\", \"product\", \"imports\"]]"
   ]
  },
  {
   "cell_type": "markdown",
   "id": "5569dfc7-0532-41ff-825e-df8d36b3be23",
   "metadata": {},
   "source": [
    "Groupez ces importations par produit, afin d'avoir une table contenant 1 ligne pour chacun des 15 produits."
   ]
  },
  {
   "cell_type": "code",
   "execution_count": 46,
   "id": "a6f77467-a9ba-4485-aa6d-6d02d45a5e25",
   "metadata": {},
   "outputs": [
    {
     "data": {
      "text/html": [
       "<div>\n",
       "<style scoped>\n",
       "    .dataframe tbody tr th:only-of-type {\n",
       "        vertical-align: middle;\n",
       "    }\n",
       "\n",
       "    .dataframe tbody tr th {\n",
       "        vertical-align: top;\n",
       "    }\n",
       "\n",
       "    .dataframe thead th {\n",
       "        text-align: right;\n",
       "    }\n",
       "</style>\n",
       "<table border=\"1\" class=\"dataframe\">\n",
       "  <thead>\n",
       "    <tr style=\"text-align: right;\">\n",
       "      <th></th>\n",
       "      <th>product</th>\n",
       "      <th>imports</th>\n",
       "    </tr>\n",
       "  </thead>\n",
       "  <tbody>\n",
       "    <tr>\n",
       "      <th>0</th>\n",
       "      <td>Bananes</td>\n",
       "      <td>9.663000e+09</td>\n",
       "    </tr>\n",
       "    <tr>\n",
       "      <th>1</th>\n",
       "      <td>Blé</td>\n",
       "      <td>1.475760e+11</td>\n",
       "    </tr>\n",
       "    <tr>\n",
       "      <th>2</th>\n",
       "      <td>Fruits, Autres</td>\n",
       "      <td>1.571400e+10</td>\n",
       "    </tr>\n",
       "    <tr>\n",
       "      <th>3</th>\n",
       "      <td>Huile de Palme</td>\n",
       "      <td>2.974700e+10</td>\n",
       "    </tr>\n",
       "    <tr>\n",
       "      <th>4</th>\n",
       "      <td>Lait - Excl Beurre</td>\n",
       "      <td>8.841800e+10</td>\n",
       "    </tr>\n",
       "    <tr>\n",
       "      <th>5</th>\n",
       "      <td>Légumes, Autres</td>\n",
       "      <td>2.817700e+10</td>\n",
       "    </tr>\n",
       "    <tr>\n",
       "      <th>6</th>\n",
       "      <td>Manioc</td>\n",
       "      <td>3.465500e+10</td>\n",
       "    </tr>\n",
       "    <tr>\n",
       "      <th>7</th>\n",
       "      <td>Maïs</td>\n",
       "      <td>1.024510e+11</td>\n",
       "    </tr>\n",
       "    <tr>\n",
       "      <th>8</th>\n",
       "      <td>Oranges, Mandarines</td>\n",
       "      <td>2.294500e+10</td>\n",
       "    </tr>\n",
       "    <tr>\n",
       "      <th>9</th>\n",
       "      <td>Poissons Pelagiques</td>\n",
       "      <td>1.344500e+10</td>\n",
       "    </tr>\n",
       "    <tr>\n",
       "      <th>10</th>\n",
       "      <td>Pommes</td>\n",
       "      <td>8.518000e+09</td>\n",
       "    </tr>\n",
       "    <tr>\n",
       "      <th>11</th>\n",
       "      <td>Riz (Eq Blanchi)</td>\n",
       "      <td>1.399000e+10</td>\n",
       "    </tr>\n",
       "    <tr>\n",
       "      <th>12</th>\n",
       "      <td>Soja</td>\n",
       "      <td>9.345500e+10</td>\n",
       "    </tr>\n",
       "    <tr>\n",
       "      <th>13</th>\n",
       "      <td>Sucre Eq Brut</td>\n",
       "      <td>3.420800e+10</td>\n",
       "    </tr>\n",
       "    <tr>\n",
       "      <th>14</th>\n",
       "      <td>Tomates</td>\n",
       "      <td>7.143000e+09</td>\n",
       "    </tr>\n",
       "  </tbody>\n",
       "</table>\n",
       "</div>"
      ],
      "text/plain": [
       "                product       imports\n",
       "0               Bananes  9.663000e+09\n",
       "1                   Blé  1.475760e+11\n",
       "2        Fruits, Autres  1.571400e+10\n",
       "3        Huile de Palme  2.974700e+10\n",
       "4    Lait - Excl Beurre  8.841800e+10\n",
       "5       Légumes, Autres  2.817700e+10\n",
       "6                Manioc  3.465500e+10\n",
       "7                  Maïs  1.024510e+11\n",
       "8   Oranges, Mandarines  2.294500e+10\n",
       "9   Poissons Pelagiques  1.344500e+10\n",
       "10               Pommes  8.518000e+09\n",
       "11     Riz (Eq Blanchi)  1.399000e+10\n",
       "12                 Soja  9.345500e+10\n",
       "13        Sucre Eq Brut  3.420800e+10\n",
       "14              Tomates  7.143000e+09"
      ]
     },
     "execution_count": 46,
     "metadata": {},
     "output_type": "execute_result"
    }
   ],
   "source": [
    "most_imported = most_imported.groupby(\"product\").sum()\n",
    "# can sort values if needed\n",
    "\n",
    "most_imported = most_imported.reset_index()\n",
    "most_imported[[\"product\", \"imports\"]]"
   ]
  },
  {
   "cell_type": "markdown",
   "id": "4e088d4f-189b-466b-b489-d2c49a9e33c2",
   "metadata": {},
   "source": [
    "Calculez pour chaque produit le ratio entre la quantité destinés aux \"Autres utilisations\" (Other uses) et la disponibilité intérieure."
   ]
  },
  {
   "cell_type": "code",
   "execution_count": 47,
   "id": "79fe8dd4-08f8-40d8-848e-9e27e026fbb0",
   "metadata": {},
   "outputs": [
    {
     "data": {
      "text/html": [
       "<div>\n",
       "<style scoped>\n",
       "    .dataframe tbody tr th:only-of-type {\n",
       "        vertical-align: middle;\n",
       "    }\n",
       "\n",
       "    .dataframe tbody tr th {\n",
       "        vertical-align: top;\n",
       "    }\n",
       "\n",
       "    .dataframe thead th {\n",
       "        text-align: right;\n",
       "    }\n",
       "</style>\n",
       "<table border=\"1\" class=\"dataframe\">\n",
       "  <thead>\n",
       "    <tr style=\"text-align: right;\">\n",
       "      <th></th>\n",
       "      <th>product</th>\n",
       "      <th>other_ratio</th>\n",
       "    </tr>\n",
       "  </thead>\n",
       "  <tbody>\n",
       "    <tr>\n",
       "      <th>0</th>\n",
       "      <td>Bananes</td>\n",
       "      <td>0.000000</td>\n",
       "    </tr>\n",
       "    <tr>\n",
       "      <th>1</th>\n",
       "      <td>Blé</td>\n",
       "      <td>0.032963</td>\n",
       "    </tr>\n",
       "    <tr>\n",
       "      <th>2</th>\n",
       "      <td>Fruits, Autres</td>\n",
       "      <td>0.000000</td>\n",
       "    </tr>\n",
       "    <tr>\n",
       "      <th>3</th>\n",
       "      <td>Huile de Palme</td>\n",
       "      <td>0.724803</td>\n",
       "    </tr>\n",
       "    <tr>\n",
       "      <th>4</th>\n",
       "      <td>Lait - Excl Beurre</td>\n",
       "      <td>0.036006</td>\n",
       "    </tr>\n",
       "    <tr>\n",
       "      <th>5</th>\n",
       "      <td>Légumes, Autres</td>\n",
       "      <td>0.000000</td>\n",
       "    </tr>\n",
       "    <tr>\n",
       "      <th>6</th>\n",
       "      <td>Manioc</td>\n",
       "      <td>0.302335</td>\n",
       "    </tr>\n",
       "    <tr>\n",
       "      <th>7</th>\n",
       "      <td>Maïs</td>\n",
       "      <td>0.259771</td>\n",
       "    </tr>\n",
       "    <tr>\n",
       "      <th>8</th>\n",
       "      <td>Oranges, Mandarines</td>\n",
       "      <td>0.000051</td>\n",
       "    </tr>\n",
       "    <tr>\n",
       "      <th>9</th>\n",
       "      <td>Poissons Pelagiques</td>\n",
       "      <td>0.000000</td>\n",
       "    </tr>\n",
       "    <tr>\n",
       "      <th>10</th>\n",
       "      <td>Pommes</td>\n",
       "      <td>0.000000</td>\n",
       "    </tr>\n",
       "    <tr>\n",
       "      <th>11</th>\n",
       "      <td>Riz (Eq Blanchi)</td>\n",
       "      <td>0.018664</td>\n",
       "    </tr>\n",
       "    <tr>\n",
       "      <th>12</th>\n",
       "      <td>Soja</td>\n",
       "      <td>0.003284</td>\n",
       "    </tr>\n",
       "    <tr>\n",
       "      <th>13</th>\n",
       "      <td>Sucre Eq Brut</td>\n",
       "      <td>0.038188</td>\n",
       "    </tr>\n",
       "    <tr>\n",
       "      <th>14</th>\n",
       "      <td>Tomates</td>\n",
       "      <td>0.000000</td>\n",
       "    </tr>\n",
       "  </tbody>\n",
       "</table>\n",
       "</div>"
      ],
      "text/plain": [
       "                product  other_ratio\n",
       "0               Bananes     0.000000\n",
       "1                   Blé     0.032963\n",
       "2        Fruits, Autres     0.000000\n",
       "3        Huile de Palme     0.724803\n",
       "4    Lait - Excl Beurre     0.036006\n",
       "5       Légumes, Autres     0.000000\n",
       "6                Manioc     0.302335\n",
       "7                  Maïs     0.259771\n",
       "8   Oranges, Mandarines     0.000051\n",
       "9   Poissons Pelagiques     0.000000\n",
       "10               Pommes     0.000000\n",
       "11     Riz (Eq Blanchi)     0.018664\n",
       "12                 Soja     0.003284\n",
       "13        Sucre Eq Brut     0.038188\n",
       "14              Tomates     0.000000"
      ]
     },
     "execution_count": 47,
     "metadata": {},
     "output_type": "execute_result"
    }
   ],
   "source": [
    "most_imported[\"other_ratio\"] = most_imported[\"other_uses\"] / most_imported[\"dispo_int\"]\n",
    "\n",
    "most_imported[[\"product\", \"other_ratio\"]]"
   ]
  },
  {
   "cell_type": "markdown",
   "id": "525e616b-f6ae-4655-b55f-ad289acc7de4",
   "metadata": {},
   "source": [
    "Calculez pour chaque produit ratio entre la quantité destinée à la nourriture animale et la quantité destinée à la nourriture (animale + humaine)"
   ]
  },
  {
   "cell_type": "code",
   "execution_count": 48,
   "id": "48fb0e46-7fc9-40f6-90aa-f77b09a49351",
   "metadata": {},
   "outputs": [
    {
     "data": {
      "text/html": [
       "<div>\n",
       "<style scoped>\n",
       "    .dataframe tbody tr th:only-of-type {\n",
       "        vertical-align: middle;\n",
       "    }\n",
       "\n",
       "    .dataframe tbody tr th {\n",
       "        vertical-align: top;\n",
       "    }\n",
       "\n",
       "    .dataframe thead th {\n",
       "        text-align: right;\n",
       "    }\n",
       "</style>\n",
       "<table border=\"1\" class=\"dataframe\">\n",
       "  <thead>\n",
       "    <tr style=\"text-align: right;\">\n",
       "      <th></th>\n",
       "      <th>product</th>\n",
       "      <th>animal_food_ratio</th>\n",
       "    </tr>\n",
       "  </thead>\n",
       "  <tbody>\n",
       "    <tr>\n",
       "      <th>0</th>\n",
       "      <td>Bananes</td>\n",
       "      <td>0.000000</td>\n",
       "    </tr>\n",
       "    <tr>\n",
       "      <th>1</th>\n",
       "      <td>Blé</td>\n",
       "      <td>0.326172</td>\n",
       "    </tr>\n",
       "    <tr>\n",
       "      <th>2</th>\n",
       "      <td>Fruits, Autres</td>\n",
       "      <td>0.000000</td>\n",
       "    </tr>\n",
       "    <tr>\n",
       "      <th>3</th>\n",
       "      <td>Huile de Palme</td>\n",
       "      <td>0.000000</td>\n",
       "    </tr>\n",
       "    <tr>\n",
       "      <th>4</th>\n",
       "      <td>Lait - Excl Beurre</td>\n",
       "      <td>0.090600</td>\n",
       "    </tr>\n",
       "    <tr>\n",
       "      <th>5</th>\n",
       "      <td>Légumes, Autres</td>\n",
       "      <td>0.052568</td>\n",
       "    </tr>\n",
       "    <tr>\n",
       "      <th>6</th>\n",
       "      <td>Manioc</td>\n",
       "      <td>1.648358</td>\n",
       "    </tr>\n",
       "    <tr>\n",
       "      <th>7</th>\n",
       "      <td>Maïs</td>\n",
       "      <td>7.204925</td>\n",
       "    </tr>\n",
       "    <tr>\n",
       "      <th>8</th>\n",
       "      <td>Oranges, Mandarines</td>\n",
       "      <td>0.000000</td>\n",
       "    </tr>\n",
       "    <tr>\n",
       "      <th>9</th>\n",
       "      <td>Poissons Pelagiques</td>\n",
       "      <td>3.087630</td>\n",
       "    </tr>\n",
       "    <tr>\n",
       "      <th>10</th>\n",
       "      <td>Pommes</td>\n",
       "      <td>0.000000</td>\n",
       "    </tr>\n",
       "    <tr>\n",
       "      <th>11</th>\n",
       "      <td>Riz (Eq Blanchi)</td>\n",
       "      <td>0.102937</td>\n",
       "    </tr>\n",
       "    <tr>\n",
       "      <th>12</th>\n",
       "      <td>Soja</td>\n",
       "      <td>1.825566</td>\n",
       "    </tr>\n",
       "    <tr>\n",
       "      <th>13</th>\n",
       "      <td>Sucre Eq Brut</td>\n",
       "      <td>0.000000</td>\n",
       "    </tr>\n",
       "    <tr>\n",
       "      <th>14</th>\n",
       "      <td>Tomates</td>\n",
       "      <td>0.000000</td>\n",
       "    </tr>\n",
       "  </tbody>\n",
       "</table>\n",
       "</div>"
      ],
      "text/plain": [
       "                product  animal_food_ratio\n",
       "0               Bananes           0.000000\n",
       "1                   Blé           0.326172\n",
       "2        Fruits, Autres           0.000000\n",
       "3        Huile de Palme           0.000000\n",
       "4    Lait - Excl Beurre           0.090600\n",
       "5       Légumes, Autres           0.052568\n",
       "6                Manioc           1.648358\n",
       "7                  Maïs           7.204925\n",
       "8   Oranges, Mandarines           0.000000\n",
       "9   Poissons Pelagiques           3.087630\n",
       "10               Pommes           0.000000\n",
       "11     Riz (Eq Blanchi)           0.102937\n",
       "12                 Soja           1.825566\n",
       "13        Sucre Eq Brut           0.000000\n",
       "14              Tomates           0.000000"
      ]
     },
     "execution_count": 48,
     "metadata": {},
     "output_type": "execute_result"
    }
   ],
   "source": [
    "most_imported[\"animal_food_ratio\"] = most_imported[\"animal_food\"] / most_imported[\"nourriture\"]\n",
    "\n",
    "most_imported[[\"product\", \"animal_food_ratio\"]]"
   ]
  },
  {
   "cell_type": "markdown",
   "id": "62488e24-d605-4605-b3c5-897c683d553a",
   "metadata": {},
   "source": [
    "![purple-divider](https://user-images.githubusercontent.com/7065401/52071927-c1cd7100-2562-11e9-908a-dde91ba14e59.png)\n",
    "# Question 12 : donnez les 3 produits qui ont la plus grande valeur pour chacun des 2 ratios"
   ]
  },
  {
   "cell_type": "code",
   "execution_count": 49,
   "id": "dda7e545-7973-485f-9d76-dfcf45207b9c",
   "metadata": {},
   "outputs": [
    {
     "data": {
      "text/html": [
       "<div>\n",
       "<style scoped>\n",
       "    .dataframe tbody tr th:only-of-type {\n",
       "        vertical-align: middle;\n",
       "    }\n",
       "\n",
       "    .dataframe tbody tr th {\n",
       "        vertical-align: top;\n",
       "    }\n",
       "\n",
       "    .dataframe thead th {\n",
       "        text-align: right;\n",
       "    }\n",
       "</style>\n",
       "<table border=\"1\" class=\"dataframe\">\n",
       "  <thead>\n",
       "    <tr style=\"text-align: right;\">\n",
       "      <th></th>\n",
       "      <th>product</th>\n",
       "      <th>other_ratio</th>\n",
       "    </tr>\n",
       "  </thead>\n",
       "  <tbody>\n",
       "    <tr>\n",
       "      <th>3</th>\n",
       "      <td>Huile de Palme</td>\n",
       "      <td>0.724803</td>\n",
       "    </tr>\n",
       "    <tr>\n",
       "      <th>6</th>\n",
       "      <td>Manioc</td>\n",
       "      <td>0.302335</td>\n",
       "    </tr>\n",
       "    <tr>\n",
       "      <th>7</th>\n",
       "      <td>Maïs</td>\n",
       "      <td>0.259771</td>\n",
       "    </tr>\n",
       "  </tbody>\n",
       "</table>\n",
       "</div>"
      ],
      "text/plain": [
       "          product  other_ratio\n",
       "3  Huile de Palme     0.724803\n",
       "6          Manioc     0.302335\n",
       "7            Maïs     0.259771"
      ]
     },
     "execution_count": 49,
     "metadata": {},
     "output_type": "execute_result"
    }
   ],
   "source": [
    "# top 3 cereal products with the highest other uses ratio \n",
    "most_imported[[\"product\", \"other_ratio\"]].sort_values(by=\"other_ratio\", ascending=False).head(3)"
   ]
  },
  {
   "cell_type": "code",
   "execution_count": 50,
   "id": "36f625b7-e702-489f-a50c-621a8e83a842",
   "metadata": {},
   "outputs": [
    {
     "data": {
      "text/html": [
       "<div>\n",
       "<style scoped>\n",
       "    .dataframe tbody tr th:only-of-type {\n",
       "        vertical-align: middle;\n",
       "    }\n",
       "\n",
       "    .dataframe tbody tr th {\n",
       "        vertical-align: top;\n",
       "    }\n",
       "\n",
       "    .dataframe thead th {\n",
       "        text-align: right;\n",
       "    }\n",
       "</style>\n",
       "<table border=\"1\" class=\"dataframe\">\n",
       "  <thead>\n",
       "    <tr style=\"text-align: right;\">\n",
       "      <th></th>\n",
       "      <th>product</th>\n",
       "      <th>animal_food_ratio</th>\n",
       "    </tr>\n",
       "  </thead>\n",
       "  <tbody>\n",
       "    <tr>\n",
       "      <th>7</th>\n",
       "      <td>Maïs</td>\n",
       "      <td>7.204925</td>\n",
       "    </tr>\n",
       "    <tr>\n",
       "      <th>9</th>\n",
       "      <td>Poissons Pelagiques</td>\n",
       "      <td>3.087630</td>\n",
       "    </tr>\n",
       "    <tr>\n",
       "      <th>12</th>\n",
       "      <td>Soja</td>\n",
       "      <td>1.825566</td>\n",
       "    </tr>\n",
       "  </tbody>\n",
       "</table>\n",
       "</div>"
      ],
      "text/plain": [
       "                product  animal_food_ratio\n",
       "7                  Maïs           7.204925\n",
       "9   Poissons Pelagiques           3.087630\n",
       "12                 Soja           1.825566"
      ]
     },
     "execution_count": 50,
     "metadata": {},
     "output_type": "execute_result"
    }
   ],
   "source": [
    "# top 3 cereal products with the highest animal food ratio \n",
    "most_imported[[\"product\", \"animal_food_ratio\"]].sort_values(by=\"animal_food_ratio\", ascending=False).head(3)"
   ]
  },
  {
   "cell_type": "markdown",
   "id": "949ae415-4a35-479a-ba9b-b3ae79ba55f9",
   "metadata": {},
   "source": [
    "![purple-divider](https://user-images.githubusercontent.com/7065401/52071927-c1cd7100-2562-11e9-908a-dde91ba14e59.png)\n",
    "# Question 13 : combien de tonnes de céréales pourraient être libérées si les USA diminuaient leur production de produits animaux de 10% ?"
   ]
  },
  {
   "cell_type": "code",
   "execution_count": 51,
   "id": "dd17ee0c-f056-40b7-a122-f7ec5ad3f5af",
   "metadata": {},
   "outputs": [
    {
     "name": "stdout",
     "output_type": "stream",
     "text": [
      "Animal food production (cereals) in the USA = 140,096,000,000\n",
      "10% of the animal food production (cereals) in the USA = 14,009,600,000\n"
     ]
    }
   ],
   "source": [
    "# isolating USA and cereal produces\n",
    "usa = food_population.groupby(\"country\")\n",
    "usa = usa.get_group(\"États-Unis d'Amérique\")\n",
    "usa_cereal = usa[usa[\"is_cereal\"] == True].copy()\n",
    "\n",
    "# total production of cereals for animal feed in the USA\n",
    "usa_animal = round(usa_cereal[\"animal_food\"].sum())\n",
    "print(f\"Animal food production (cereals) in the USA = {usa_animal:,}\")\n",
    "\n",
    "# 10% of USA's cereal production used for animal feed\n",
    "animal_portion = round(usa_animal * 0.1)\n",
    "print(f\"10% of the animal food production (cereals) in the USA = {animal_portion:,}\")"
   ]
  },
  {
   "cell_type": "markdown",
   "id": "7b06e064-261c-4534-8cb7-8f9972589158",
   "metadata": {},
   "source": [
    "![purple-divider](https://user-images.githubusercontent.com/7065401/52071927-c1cd7100-2562-11e9-908a-dde91ba14e59.png)\n",
    "# Question 14 : en Thaïlande, quelle proportion de manioc est exportée ? Quelle est la proportion de personnes en sous-nutrition?"
   ]
  },
  {
   "cell_type": "code",
   "execution_count": 52,
   "id": "d1ae6cbe-d434-40aa-b3cd-ee96fb201579",
   "metadata": {},
   "outputs": [
    {
     "name": "stdout",
     "output_type": "stream",
     "text": [
      "Total Manioc products exported in the world: 36,052,000,000\n",
      " \n",
      "Thailand exports a total of 25,214,000,000 Manioc products\n",
      "Which accounts for 69.94% of the world's total Manioc product exports\n"
     ]
    }
   ],
   "source": [
    "# total number of exported Manioc in the world\n",
    "manioc_exports = food_population[food_population[\"product\"] == \"Manioc\"]\n",
    "manioc_exports = round(manioc_exports[\"exports\"].sum(skipna=True))\n",
    "print(f\"Total Manioc products exported in the world: {manioc_exports:,}\")\n",
    "\n",
    "print(\" \")\n",
    "\n",
    "# Manoic exports in Thailand\n",
    "thailand = food_population.groupby(\"country\")\n",
    "thailand = thailand.get_group(\"Thaïlande\").copy()\n",
    "manioc_thailand = thailand[thailand[\"product\"] == \"Manioc\"]\n",
    "manioc_thailand = round(manioc_thailand[\"exports\"].sum())\n",
    "print(f\"Thailand exports a total of {manioc_thailand:,} Manioc products\")\n",
    "\n",
    "# percentage representation\n",
    "manioc_thailand_proportion = round((manioc_thailand / manioc_exports) * 100,2)\n",
    "print(f\"Which accounts for {manioc_thailand_proportion:.2f}% of the world's total Manioc product exports\")"
   ]
  },
  {
   "cell_type": "markdown",
   "id": "a0226fbd-16ee-40f1-8eb5-92ebb731bf29",
   "metadata": {},
   "source": [
    "### Verified values"
   ]
  },
  {
   "cell_type": "code",
   "execution_count": 53,
   "id": "9812bbc7-3d79-4c63-8ea2-d33b35b4c14b",
   "metadata": {},
   "outputs": [
    {
     "name": "stdout",
     "output_type": "stream",
     "text": [
      "Maximum value of exported Manioc products: 25,214,000,000\n",
      " \n"
     ]
    },
    {
     "data": {
      "text/html": [
       "<div>\n",
       "<style scoped>\n",
       "    .dataframe tbody tr th:only-of-type {\n",
       "        vertical-align: middle;\n",
       "    }\n",
       "\n",
       "    .dataframe tbody tr th {\n",
       "        vertical-align: top;\n",
       "    }\n",
       "\n",
       "    .dataframe thead th {\n",
       "        text-align: right;\n",
       "    }\n",
       "</style>\n",
       "<table border=\"1\" class=\"dataframe\">\n",
       "  <thead>\n",
       "    <tr style=\"text-align: right;\">\n",
       "      <th></th>\n",
       "      <th>country</th>\n",
       "      <th>product</th>\n",
       "      <th>exports</th>\n",
       "    </tr>\n",
       "  </thead>\n",
       "  <tbody>\n",
       "    <tr>\n",
       "      <th>13344</th>\n",
       "      <td>Thaïlande</td>\n",
       "      <td>Manioc</td>\n",
       "      <td>2.521400e+10</td>\n",
       "    </tr>\n",
       "    <tr>\n",
       "      <th>14724</th>\n",
       "      <td>Viet Nam</td>\n",
       "      <td>Manioc</td>\n",
       "      <td>8.973000e+09</td>\n",
       "    </tr>\n",
       "    <tr>\n",
       "      <th>6137</th>\n",
       "      <td>Indonésie</td>\n",
       "      <td>Manioc</td>\n",
       "      <td>8.200000e+08</td>\n",
       "    </tr>\n",
       "  </tbody>\n",
       "</table>\n",
       "</div>"
      ],
      "text/plain": [
       "         country product       exports\n",
       "13344  Thaïlande  Manioc  2.521400e+10\n",
       "14724   Viet Nam  Manioc  8.973000e+09\n",
       "6137   Indonésie  Manioc  8.200000e+08"
      ]
     },
     "execution_count": 53,
     "metadata": {},
     "output_type": "execute_result"
    }
   ],
   "source": [
    "# getting the maximum value and country of Manioc exports\n",
    "manioc = food_population[food_population[\"product\"] == \"Manioc\"].sort_values(by=\"exports\")\n",
    "max_manioc = round(max(manioc[\"exports\"]))\n",
    "print(f\"Maximum value of exported Manioc products: {max_manioc:,}\")\n",
    "\n",
    "print(\" \")\n",
    "\n",
    "# verifying with table projection\n",
    "manioc[[\"country\", \"product\", \"exports\"]].sort_values(by=\"exports\", ascending=False).head(3)"
   ]
  },
  {
   "cell_type": "code",
   "execution_count": 54,
   "id": "1064892f-833e-41ff-8992-ba5b61c4832e",
   "metadata": {},
   "outputs": [
    {
     "name": "stdout",
     "output_type": "stream",
     "text": [
      "Population of Thailand: 67,011,000 inhabitants\n",
      " \n",
      "Numbers of undernourished people inside Thailand: 5,600,000\n",
      "Which represents 8.36% of Thailand's total populaton\n"
     ]
    }
   ],
   "source": [
    "# Thai population\n",
    "thailand_population = thailand[\"population\"].unique()\n",
    "thailand_population = round(float(thailand_population[0]))\n",
    "print(f\"Population of Thailand: {thailand_population:,} inhabitants\")\n",
    "\n",
    "print(\" \")\n",
    "\n",
    "# undernourished in Thailand\n",
    "under_thailand = under.groupby(\"country\")\n",
    "under_thailand = under_thailand.get_group(\"Thaïlande\")\n",
    "under_thailand = under_thailand[\"undernourished\"].unique()\n",
    "under_thailand = round(float(under_thailand[0]))\n",
    "print(f\"Numbers of undernourished people inside Thailand: {under_thailand:,}\")\n",
    "\n",
    "# percentage representation\n",
    "under_thailand_proportion = (under_thailand / thailand_population) * 100\n",
    "print(f\"Which represents {under_thailand_proportion:.2f}% of Thailand's total populaton\")"
   ]
  }
 ],
 "metadata": {
  "kernelspec": {
   "display_name": "Python 3",
   "language": "python",
   "name": "python3"
  },
  "language_info": {
   "codemirror_mode": {
    "name": "ipython",
    "version": 3
   },
   "file_extension": ".py",
   "mimetype": "text/x-python",
   "name": "python",
   "nbconvert_exporter": "python",
   "pygments_lexer": "ipython3",
   "version": "3.8.8"
  }
 },
 "nbformat": 4,
 "nbformat_minor": 5
}
